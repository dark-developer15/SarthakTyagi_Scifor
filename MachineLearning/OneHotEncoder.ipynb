{
 "cells": [
  {
   "cell_type": "markdown",
   "metadata": {},
   "source": [
    "### OneHotEncoder\n",
    "- There are generally two types:-\n",
    "    1. Feature Encoding\n",
    "    2. Text Encoding\n"
   ]
  },
  {
   "cell_type": "code",
   "execution_count": 1,
   "metadata": {},
   "outputs": [],
   "source": [
    "import numpy as np\n",
    "from sklearn.preprocessing import OneHotEncoder"
   ]
  },
  {
   "cell_type": "code",
   "execution_count": 7,
   "metadata": {},
   "outputs": [
    {
     "name": "stdout",
     "output_type": "stream",
     "text": [
      "[[0. 0. 1.]\n",
      " [0. 1. 0.]\n",
      " [1. 0. 0.]]\n"
     ]
    }
   ],
   "source": [
    "colors = [\"Red\", \"Green\", \"Blue\"]\n",
    "encoder = OneHotEncoder(sparse_output=False, handle_unknown=\"ignore\")\n",
    "\n",
    "colors_2d = np.array(colors).reshape(-1, 1)\n",
    "encoded = encoder.fit_transform(colors_2d)\n",
    "print(encoded)"
   ]
  },
  {
   "cell_type": "code",
   "execution_count": 12,
   "metadata": {},
   "outputs": [
    {
     "name": "stdout",
     "output_type": "stream",
     "text": [
      "[[0. 0. 1.]\n",
      " [0. 1. 0.]\n",
      " [1. 0. 0.]\n",
      " [1. 0. 0.]\n",
      " [0. 0. 1.]\n",
      " [0. 1. 0.]\n",
      " [0. 1. 0.]\n",
      " [0. 0. 1.]]\n"
     ]
    }
   ],
   "source": [
    "sample = np.array(['Red', 'Green', 'Blue', 'Blue', 'Red', 'Green', 'Green', 'Red'])\n",
    "\n",
    "encoder = OneHotEncoder(sparse_output=False, handle_unknown=\"ignore\")\n",
    "sample_2d = np.array(sample).reshape(-1, 1)\n",
    "\n",
    "print(encoder.fit_transform(sample_2d))"
   ]
  },
  {
   "cell_type": "code",
   "execution_count": 2,
   "metadata": {},
   "outputs": [
    {
     "name": "stdout",
     "output_type": "stream",
     "text": [
      "    Employee_Id  Gender Remarks Gender_ Remarks_    0    1    2    3    4\n",
      "0             1  Female    Nice  Female     Nice  1.0  0.0  0.0  0.0  1.0\n",
      "1             2    Male   Great    Male    Great  0.0  1.0  0.0  1.0  0.0\n",
      "2             3    Male   Great    Male    Great  0.0  1.0  0.0  1.0  0.0\n",
      "3             4    Male    Good    Male     Good  0.0  1.0  1.0  0.0  0.0\n",
      "4             5  Female    Good  Female     Good  1.0  0.0  1.0  0.0  0.0\n",
      "5             6    Male   Great    Male    Great  0.0  1.0  0.0  1.0  0.0\n",
      "6             7  Female    Nice  Female     Nice  1.0  0.0  0.0  0.0  1.0\n",
      "7             8  Female    Good  Female     Good  1.0  0.0  1.0  0.0  0.0\n",
      "8             9  Female   Great  Female    Great  1.0  0.0  0.0  1.0  0.0\n",
      "9            10    Male    Good    Male     Good  0.0  1.0  1.0  0.0  0.0\n",
      "10           11  Female   Great  Female    Great  1.0  0.0  0.0  1.0  0.0\n",
      "11           12    Male    Good    Male     Good  0.0  1.0  1.0  0.0  0.0\n",
      "12           13    Male   Great    Male    Great  0.0  1.0  0.0  1.0  0.0\n",
      "13           14  Female   Great  Female    Great  1.0  0.0  0.0  1.0  0.0\n",
      "14           15  Female   Great  Female    Great  1.0  0.0  0.0  1.0  0.0\n",
      "15           16    Male    Nice    Male     Nice  0.0  1.0  0.0  0.0  1.0\n",
      "16           17  Female    Good  Female     Good  1.0  0.0  1.0  0.0  0.0\n",
      "17           18    Male    Nice    Male     Nice  0.0  1.0  0.0  0.0  1.0\n",
      "18           19  Female    Good  Female     Good  1.0  0.0  1.0  0.0  0.0\n",
      "19           20    Male    Nice    Male     Nice  0.0  1.0  0.0  0.0  1.0\n"
     ]
    }
   ],
   "source": [
    "# importing libraries \n",
    "import pandas as pd \n",
    "import numpy as np \n",
    "from sklearn.preprocessing import OneHotEncoder \n",
    "\n",
    "# Retrieving data \n",
    "data = pd.read_csv('../DataSets/employee.csv') \n",
    "\n",
    "# Converting type of columns to category \n",
    "data['Gender'] = data['Gender'].astype('category') \n",
    "data['Remarks'] = data['Remarks'].astype('category') \n",
    "\n",
    "\n",
    "# Assigning numerical values and storing it in another columns \n",
    "data['Gender_'] = data[['Gender']]\n",
    "data['Remarks_'] = data[['Remarks']]\n",
    "\n",
    "\n",
    "# Create an instance of One-hot-encoder \n",
    "encoder = OneHotEncoder() \n",
    "\n",
    "# Passing encoded columns \n",
    "\n",
    "new_data = pd.DataFrame(encoder.fit_transform( \n",
    "\tdata[['Gender_', 'Remarks_']]).toarray()) \n",
    "\n",
    "# Merge with main \n",
    "New_df = data.join(new_data) \n",
    "\n",
    "print(New_df) \n"
   ]
  }
 ],
 "metadata": {
  "kernelspec": {
   "display_name": "Python 3",
   "language": "python",
   "name": "python3"
  },
  "language_info": {
   "codemirror_mode": {
    "name": "ipython",
    "version": 3
   },
   "file_extension": ".py",
   "mimetype": "text/x-python",
   "name": "python",
   "nbconvert_exporter": "python",
   "pygments_lexer": "ipython3",
   "version": "3.11.4"
  }
 },
 "nbformat": 4,
 "nbformat_minor": 2
}
