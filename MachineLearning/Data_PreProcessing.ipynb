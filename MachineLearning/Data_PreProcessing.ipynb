{
  "nbformat": 4,
  "nbformat_minor": 0,
  "metadata": {
    "colab": {
      "provenance": []
    },
    "kernelspec": {
      "name": "python3",
      "display_name": "Python 3"
    },
    "language_info": {
      "name": "python"
    }
  },
  "cells": [
    {
      "cell_type": "markdown",
      "source": [
        "### Linear Regression model"
      ],
      "metadata": {
        "id": "7KVPZz3_10o2"
      }
    },
    {
      "cell_type": "code",
      "execution_count": null,
      "metadata": {
        "id": "lnoGsVJF1yh-"
      },
      "outputs": [],
      "source": [
        "import numpy as np\n",
        "import pandas as pd\n",
        "import matplotlib.pyplot as plt\n",
        "from sklearn.model_selection import train_test_split"
      ]
    },
    {
      "cell_type": "code",
      "source": [
        "# Importing the Data\n",
        "data = pd.read_csv(\"../content/Placements.csv\")\n",
        "data.head(10)"
      ],
      "metadata": {
        "id": "8RDM1bCc2qpX"
      },
      "execution_count": null,
      "outputs": []
    },
    {
      "cell_type": "code",
      "source": [
        "X = data[\"cgpa\"].values\n",
        "y = data[\"package\"].values"
      ],
      "metadata": {
        "id": "7qIKU4PT37bk"
      },
      "execution_count": null,
      "outputs": []
    },
    {
      "cell_type": "code",
      "source": [
        "# Splitting Training and Testing Data\n",
        "x_train, x_test, y_train, y_test = train_test_split(X, y, test_size=0.3, random_state=42)"
      ],
      "metadata": {
        "id": "Y0WUIUTz-Ato"
      },
      "execution_count": null,
      "outputs": []
    },
    {
      "cell_type": "code",
      "source": [
        "# Adding columns for the intercept term\n",
        "\n",
        "x_train = np.vstack((np.ones_like(x_train), x_train)).T\n",
        "x_test = np.vstack((np.ones_like(x_test), x_test)).T"
      ],
      "metadata": {
        "id": "tDthJsOvEfWY"
      },
      "execution_count": null,
      "outputs": []
    },
    {
      "cell_type": "code",
      "source": [
        "def Linear_Regression(X, y, learning_rate, epochs):\n",
        "  rows, cols = X.shape\n",
        "  weights = np.zeros(cols)\n",
        "  cost_list = []\n",
        "\n",
        "  for _ in range(epochs):\n",
        "    predictions = np.dot(X, weights)\n",
        "    error = predictions - y\n",
        "    gradient = np.dot(X.T, error) / rows\n",
        "    weights -= learning_rate * gradient\n",
        "\n",
        "    # Cost calculation\n",
        "    cost = (1 / (2 * rows)) * np.sum(error ** 2)\n",
        "    cost_list.append(cost)\n",
        "\n",
        "  return weights, cost_list\n"
      ],
      "metadata": {
        "id": "PHOzYEQKFAmJ"
      },
      "execution_count": null,
      "outputs": []
    },
    {
      "cell_type": "code",
      "source": [
        "# performing Linear Regression\n",
        "weights, cost_list = Linear_Regression(x_train, y_train, 0.0001, 500)\n",
        "\n",
        "# prediction performance\n",
        "y_pred = np.dot(x_test, weights)\n",
        "\n",
        "# metrics\n",
        "mse = np.mean((y_test - y_pred) ** 2)\n",
        "rmse = np.sqrt(mse)\n",
        "mae = np.mean(np.abs(y_test - y_pred))"
      ],
      "metadata": {
        "id": "dD8sPSgdGsQp"
      },
      "execution_count": null,
      "outputs": []
    },
    {
      "cell_type": "code",
      "source": [
        "print(mse)\n",
        "print(rmse)\n",
        "print(mae)"
      ],
      "metadata": {
        "id": "AOPCTz-8H6x1"
      },
      "execution_count": null,
      "outputs": []
    },
    {
      "cell_type": "code",
      "source": [
        "pred_data = pd.DataFrame({\n",
        "    \"Actual\": y_test,\n",
        "    \"Predicted\": y_pred,\n",
        "    \"Difference\": y_test - y_pred\n",
        "})\n",
        "\n",
        "print(pred_data)"
      ],
      "metadata": {
        "id": "AVwloQ-NIJIU"
      },
      "execution_count": null,
      "outputs": []
    },
    {
      "cell_type": "code",
      "source": [
        "pred_data.info()"
      ],
      "metadata": {
        "id": "RYIum0mTIuMr"
      },
      "execution_count": null,
      "outputs": []
    },
    {
      "cell_type": "code",
      "source": [
        "plt.figure(figsize= (10, 6))\n",
        "plt.plot(pred_data[\"Actual\"], pred_data[\"Predicted\"], marker=\"X\", linestyle=\"--\", color=\"red\")\n",
        "plt.xlabel(\"Actual Values\")\n",
        "plt.ylabel(\"Predicted Values\")\n",
        "plt.grid(True)\n",
        "\n",
        "plt.show()"
      ],
      "metadata": {
        "id": "vGB3m0I_JE0f"
      },
      "execution_count": null,
      "outputs": []
    }
  ]
}