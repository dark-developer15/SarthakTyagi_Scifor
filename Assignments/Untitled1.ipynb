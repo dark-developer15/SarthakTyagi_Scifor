{
  "nbformat": 4,
  "nbformat_minor": 0,
  "metadata": {
    "colab": {
      "provenance": [],
      "toc_visible": true
    },
    "kernelspec": {
      "name": "python3",
      "display_name": "Python 3"
    },
    "language_info": {
      "name": "python"
    }
  },
  "cells": [
    {
      "cell_type": "markdown",
      "source": [
        "## **ASSIGNMENT - 1**"
      ],
      "metadata": {
        "id": "4KHMSaubQt7x"
      }
    },
    {
      "cell_type": "markdown",
      "source": [
        "# Question 1\n",
        "Q1. Create a python program to sort the given list of tuples based on integer value using a\n",
        "lambda function.\n",
        "```\n",
        "[('Sachin Tendulkar', 34357),\n",
        " ('Ricky Ponting', 27483),\n",
        " ('Jack Kallis', 25534),\n",
        " ('Virat Kohli', 24936)]\n",
        "```"
      ],
      "metadata": {
        "id": "H6-B3jnWbQKD"
      }
    },
    {
      "cell_type": "code",
      "execution_count": null,
      "metadata": {
        "id": "IjYV707xQnDr"
      },
      "outputs": [],
      "source": [
        "# Define a list of tuples containing player names and their corresponding integer values\n",
        "players_data = [\n",
        "    ('Sachin Tendulkar', 34357),\n",
        "    ('Ricky Ponting', 27483),\n",
        "    ('Jack Kallis', 25534),\n",
        "    ('Virat Kohli', 24936)\n",
        "]\n",
        "\n",
        "def sort_players_by_integer_value(players):\n",
        "    \"\"\"\n",
        "    Sort a list of tuples based on the integer value (second element) using a lambda function.\n",
        "\n",
        "    Parameters:\n",
        "    - players (list): List of tuples containing player names and integer values.\n",
        "\n",
        "    Returns:\n",
        "    - list: Sorted list of tuples.\n",
        "    \"\"\"\n",
        "    # Use the sorted function with a lambda function as the key to sort based on the second element\n",
        "    sorted_players = sorted(players, key=lambda x: x[1])\n",
        "\n",
        "    return sorted_players\n",
        "\n",
        "# Call the function to get the sorted list\n",
        "sorted_players = sort_players_by_integer_value(players_data)\n",
        "\n",
        "# Print the sorted list\n",
        "for player in sorted_players:\n",
        "    print(player)\n"
      ]
    },
    {
      "cell_type": "markdown",
      "source": [
        "# Question 2\n",
        "Q2. Write a Python Program to find the squares of all the numbers in the given list of integers\n",
        "using lambda and map functions.\n",
        "```\n",
        "[1, 2, 3, 4, 5, 6, 7, 8, 9, 10]\n",
        "```"
      ],
      "metadata": {
        "id": "gDesJ8nga1rB"
      }
    },
    {
      "cell_type": "code",
      "source": [
        "# Define a list of numbers\n",
        "list_of_numbers = [1, 2, 3, 4, 5, 6, 7, 8, 9, 10]\n",
        "\n",
        "# Use the map function and a lambda expression to square each number in the list\n",
        "list_of_numbers = list(map(lambda x: x*x, list_of_numbers))\n",
        "\n",
        "# Print the modified list\n",
        "print(list_of_numbers)\n",
        "\n",
        "\"\"\"\n",
        "Docstring:\n",
        "This script demonstrates the use of the map function and a lambda expression\n",
        "to square each element in a given list of numbers.\n",
        "\n",
        "Steps:\n",
        "1. Define a list of numbers.\n",
        "2. Use the map function to apply a lambda function (which squares each element) to the list.\n",
        "3. Convert the result to a list.\n",
        "4. Print the modified list.\n",
        "\n",
        "Example Output:\n",
        "Original List: [1, 2, 3, 4, 5, 6, 7, 8, 9, 10]\n",
        "Modified List: [1, 4, 9, 16, 25, 36, 49, 64, 81, 100]\n",
        "\"\"\"\n"
      ],
      "metadata": {
        "id": "g09GV4nTRfv8"
      },
      "execution_count": null,
      "outputs": []
    },
    {
      "cell_type": "markdown",
      "source": [
        "# Question 3\n",
        "Q3. Write a python program to convert the given list of integers into a tuple of strings. Use map\n",
        "and lambda functions.\n",
        "```\n",
        "Given String: [1, 2, 3, 4, 5, 6, 7, 8, 9, 10]\n",
        "Expected output: ('1', '2', '3', '4', '5', '6', '7', '8', '9', '10')\n",
        "```"
      ],
      "metadata": {
        "id": "E4wWi7epRKOM"
      }
    },
    {
      "cell_type": "code",
      "source": [
        "# Define a list of numbers\n",
        "number_list = [1, 2, 3, 4, 5, 6, 7, 8, 9, 10]\n",
        "\n",
        "def convert_numbers_to_strings(numbers):\n",
        "    \"\"\"\n",
        "    Convert a list of numbers to a list of strings using a lambda function.\n",
        "\n",
        "    Parameters:\n",
        "    - numbers (list): List of numbers to be converted.\n",
        "\n",
        "    Returns:\n",
        "    - list: List of strings.\n",
        "    \"\"\"\n",
        "    # Use the map function with a lambda function to convert each number to a string\n",
        "    string_list = list(map(lambda x: str(x), numbers))\n",
        "\n",
        "    return string_list\n",
        "\n",
        "# Call the function to get the list of strings\n",
        "string_list = convert_numbers_to_strings(number_list)\n",
        "\n",
        "# Print the list of strings\n",
        "print(string_list)\n"
      ],
      "metadata": {
        "id": "0_HS76kSRgss"
      },
      "execution_count": null,
      "outputs": []
    },
    {
      "cell_type": "markdown",
      "source": [
        "# Question 4\n",
        "Q4. Write a python program using reduce function to compute the product of a list containing\n",
        "numbers from 1 to 25.\n"
      ],
      "metadata": {
        "id": "g-rNH3o1RMrS"
      }
    },
    {
      "cell_type": "code",
      "source": [
        "from functools import reduce\n",
        "\n",
        "def calculate_product_of_numbers(n):\n",
        "    \"\"\"\n",
        "    Calculate the product of numbers from 1 to the given number using the reduce function and a lambda function.\n",
        "\n",
        "    Parameters:\n",
        "    - n (int): The upper limit for generating numbers.\n",
        "\n",
        "    Returns:\n",
        "    - int: The product of numbers from 1 to n.\n",
        "    \"\"\"\n",
        "    # Generate a list of numbers from 1 to n\n",
        "    numbers = [x for x in range(1, n+1)]\n",
        "\n",
        "    # Use the reduce function with a lambda function to calculate the product\n",
        "    product_result = reduce(lambda x, y: x * y, numbers)\n",
        "\n",
        "    return product_result\n",
        "\n",
        "# Call the function to calculate the product of numbers from 1 to 25\n",
        "result = calculate_product_of_numbers(25)\n",
        "\n",
        "# Print the result\n",
        "print(result)\n"
      ],
      "metadata": {
        "id": "eno7RvrzRhFx"
      },
      "execution_count": null,
      "outputs": []
    },
    {
      "cell_type": "markdown",
      "source": [
        "# Question 5\n",
        "Q5. Write a python program to filter the numbers in a given list that are divisible by 2 and 3.\n",
        "```\n",
        "[2, 3, 6, 9, 27, 60, 90, 120, 55, 46]\n",
        "```"
      ],
      "metadata": {
        "id": "XITsWGABROzt"
      }
    },
    {
      "cell_type": "code",
      "source": [
        "def filter_numbers(number_list):\n",
        "    \"\"\"\n",
        "    Filter a list of numbers based on the conditions specified in a lambda function.\n",
        "\n",
        "    Parameters:\n",
        "    - number_list (list): List of numbers to be filtered.\n",
        "\n",
        "    Returns:\n",
        "    - list: Filtered list of numbers.\n",
        "    \"\"\"\n",
        "    # Use the filter function with a lambda function to filter numbers based on conditions\n",
        "    filtered_numbers = list(filter(lambda x: x % 2 == 0 and x % 3 == 0, number_list))\n",
        "\n",
        "    return filtered_numbers\n",
        "\n",
        "# Given list of numbers\n",
        "number_list = [2, 3, 6, 9, 27, 60, 90, 120, 55, 46]\n",
        "\n",
        "# Call the function to filter the numbers\n",
        "filtered_numbers = filter_numbers(number_list)\n",
        "\n",
        "# Print the filtered list\n",
        "print(filtered_numbers)\n"
      ],
      "metadata": {
        "id": "zJoY6U39Rh_Z"
      },
      "execution_count": null,
      "outputs": []
    },
    {
      "cell_type": "markdown",
      "source": [
        "# Question 6\n",
        "Q6. Write a python program to find palindromes in the given list of strings using lambda and\n",
        "filter function.\n",
        "```\n",
        "['python', 'php', 'aba', 'radar', 'level']\n",
        "```"
      ],
      "metadata": {
        "id": "LXrD2703RRKB"
      }
    },
    {
      "cell_type": "code",
      "source": [
        "def filter_palindromes(string_list):\n",
        "    \"\"\"\n",
        "    Filter a list of strings to get palindromic strings.\n",
        "\n",
        "    Parameters:\n",
        "    - string_list (list): List of strings to be filtered.\n",
        "\n",
        "    Returns:\n",
        "    - list: List of palindromic strings.\n",
        "    \"\"\"\n",
        "    # Use the filter function with a lambda function to filter palindromes\n",
        "    palindromes = list(filter(lambda x: x == x[::-1], string_list))\n",
        "\n",
        "    return palindromes\n",
        "\n",
        "# Given list of strings\n",
        "list_of_strings = ['python', 'php', 'aba', 'radar', 'level']\n",
        "\n",
        "# Call the function to filter palindromic strings\n",
        "palindromic_strings = filter_palindromes(list_of_strings)\n",
        "\n",
        "# Print the filtered list\n",
        "print(palindromic_strings)\n"
      ],
      "metadata": {
        "id": "INnQ81vYRinp"
      },
      "execution_count": null,
      "outputs": []
    }
  ]
}